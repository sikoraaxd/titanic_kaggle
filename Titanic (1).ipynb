{
  "nbformat": 4,
  "nbformat_minor": 0,
  "metadata": {
    "colab": {
      "provenance": []
    },
    "kernelspec": {
      "name": "python3",
      "display_name": "Python 3"
    },
    "language_info": {
      "name": "python"
    }
  },
  "cells": [
    {
      "cell_type": "code",
      "execution_count": 2356,
      "metadata": {
        "id": "xBxVxGpZ6Y6j"
      },
      "outputs": [],
      "source": [
        "import torch\n",
        "import torch.nn as nn\n",
        "import pandas as pd"
      ]
    },
    {
      "cell_type": "code",
      "source": [
        "gender_df = pd.read_csv('gender_submission.csv')\n",
        "train_df = pd.read_csv('train.csv')\n",
        "test_df = pd.read_csv('test.csv')"
      ],
      "metadata": {
        "id": "h7KNSoOK60Ka"
      },
      "execution_count": 2357,
      "outputs": []
    },
    {
      "cell_type": "code",
      "source": [
        "X_train = train_df[['Pclass', 'Sex', 'Age', 'SibSp', 'Parch', 'Embarked', 'Fare']]\n",
        "X_test = test_df[['Pclass', 'Sex', 'Age', 'SibSp', 'Parch', 'Embarked', 'Fare']]\n",
        "y_train = train_df['Survived'].values\n",
        "\n",
        "mean_age = X_train['Age'].describe()['75%']\n",
        "X_train['Age'].fillna(mean_age, inplace=True)\n",
        "X_test['Age'].fillna(mean_age, inplace=True)\n",
        "\n",
        "X_train['Sex'].replace(['male', 'female'], [0,1], inplace=True)\n",
        "X_test['Sex'].replace(['male', 'female'], [0,1], inplace=True)\n",
        "\n",
        "top_embarked = X_train['Embarked'].describe().top\n",
        "X_train['Embarked'].fillna(top_embarked, inplace=True)\n",
        "X_test['Embarked'].fillna(top_embarked, inplace=True)\n",
        "\n",
        "X_train['Embarked'].replace(['S', 'Q', 'C'], [0, 1, 2], inplace=True)\n",
        "X_test['Embarked'].replace(['S', 'Q', 'C'], [0, 1, 2], inplace=True)\n",
        "\n",
        "mean_fare = X_train['Fare'].mean()\n",
        "X_train['Fare'].fillna(mean_fare, inplace=True)\n",
        "X_test['Fare'].fillna(mean_fare, inplace=True)"
      ],
      "metadata": {
        "colab": {
          "base_uri": "https://localhost:8080/"
        },
        "id": "e-Twr_4T8Y1Q",
        "outputId": "3c4d2c8b-2792-4e39-b417-efdce46620b8"
      },
      "execution_count": 2358,
      "outputs": [
        {
          "output_type": "stream",
          "name": "stderr",
          "text": [
            "/usr/local/lib/python3.7/dist-packages/pandas/core/generic.py:6392: SettingWithCopyWarning: \n",
            "A value is trying to be set on a copy of a slice from a DataFrame\n",
            "\n",
            "See the caveats in the documentation: https://pandas.pydata.org/pandas-docs/stable/user_guide/indexing.html#returning-a-view-versus-a-copy\n",
            "  return self._update_inplace(result)\n",
            "/usr/local/lib/python3.7/dist-packages/pandas/core/generic.py:6619: SettingWithCopyWarning: \n",
            "A value is trying to be set on a copy of a slice from a DataFrame\n",
            "\n",
            "See the caveats in the documentation: https://pandas.pydata.org/pandas-docs/stable/user_guide/indexing.html#returning-a-view-versus-a-copy\n",
            "  return self._update_inplace(result)\n"
          ]
        }
      ]
    },
    {
      "cell_type": "code",
      "source": [
        "class TitanicRegressor(nn.Module):\n",
        "  def __init__(self):\n",
        "    super().__init__()\n",
        "    self.linear_layer1 = nn.Linear(in_features=7, out_features=64)\n",
        "    self.linear_layer2 = nn.Linear(in_features=64, out_features=32)\n",
        "    self.linear_layer3 = nn.Linear(in_features=32, out_features=12)\n",
        "    self.linear_layer4 = nn.Linear(in_features=12, out_features=1)\n",
        "    self.relu = nn.ReLU()\n",
        "    self.lrelu = nn.LeakyReLU()\n",
        "    self.tanh = nn.Tanh()\n",
        "    self.activation = nn.Sigmoid()\n",
        "  \n",
        "  def forward(self, x):\n",
        "    x = self.tanh(self.linear_layer1(x))\n",
        "    x = self.tanh(self.linear_layer2(x))\n",
        "    x = self.relu(self.linear_layer3(x))\n",
        "    x = self.linear_layer4(x)\n",
        "    return self.activation(x)\n",
        "\n",
        "model = TitanicRegressor()"
      ],
      "metadata": {
        "id": "z9ZGl1ZmCKWp"
      },
      "execution_count": 2359,
      "outputs": []
    },
    {
      "cell_type": "code",
      "source": [
        "X_train = torch.tensor(X_train.values, dtype=torch.float32)\n",
        "X_test = torch.tensor(X_test.values, dtype=torch.float32)\n",
        "y_train = torch.tensor(y_train, dtype=torch.float32)\n"
      ],
      "metadata": {
        "id": "kVaMaYPsF9Ty"
      },
      "execution_count": 2360,
      "outputs": []
    },
    {
      "cell_type": "code",
      "source": [
        "X_train = nn.functional.normalize(X_train)\n",
        "X_test = nn.functional.normalize(X_test)"
      ],
      "metadata": {
        "id": "Vj2vConYXjlt"
      },
      "execution_count": 2361,
      "outputs": []
    },
    {
      "cell_type": "code",
      "source": [
        "loss_fn = nn.BCELoss()\n",
        "optimizer = torch.optim.Adam(model.parameters(), lr=0.02)\n",
        "epochs = 1000"
      ],
      "metadata": {
        "id": "z10COt-bNgg1"
      },
      "execution_count": 2362,
      "outputs": []
    },
    {
      "cell_type": "code",
      "source": [
        "for epoch in range(epochs):\n",
        "  optimizer.zero_grad()\n",
        "  preds = model(X_train)\n",
        "  loss = loss_fn(preds, y_train.unsqueeze(1))\n",
        "  if epoch % 100 == 0:\n",
        "    print(f\"Epoch: {epoch}, Loss: {loss}\")\n",
        "  \n",
        "  \n",
        "  loss.backward()\n",
        "  optimizer.step()"
      ],
      "metadata": {
        "colab": {
          "base_uri": "https://localhost:8080/"
        },
        "id": "XT2tUVxjQTfU",
        "outputId": "a62e9b64-f9f6-400f-87e4-ed9e6115fdbb"
      },
      "execution_count": 2363,
      "outputs": [
        {
          "output_type": "stream",
          "name": "stdout",
          "text": [
            "Epoch: 0, Loss: 0.7057760953903198\n",
            "Epoch: 100, Loss: 0.4278724789619446\n",
            "Epoch: 200, Loss: 0.39264655113220215\n",
            "Epoch: 300, Loss: 0.36627545952796936\n",
            "Epoch: 400, Loss: 0.34374698996543884\n",
            "Epoch: 500, Loss: 0.3310019373893738\n",
            "Epoch: 600, Loss: 0.3313558101654053\n",
            "Epoch: 700, Loss: 0.28394457697868347\n",
            "Epoch: 800, Loss: 0.315529465675354\n",
            "Epoch: 900, Loss: 0.24122385680675507\n"
          ]
        }
      ]
    },
    {
      "cell_type": "code",
      "source": [
        "model.eval()\n",
        "test_preds = torch.round(model(X_test))"
      ],
      "metadata": {
        "id": "FZxcSzNQrk_s"
      },
      "execution_count": 2364,
      "outputs": []
    },
    {
      "cell_type": "code",
      "source": [
        "with torch.no_grad():\n",
        "  test_df['Survived'] = pd.Series(test_preds.squeeze(1).numpy().astype(int))\n",
        "\n",
        "test_df['Survived'].values.sum()"
      ],
      "metadata": {
        "colab": {
          "base_uri": "https://localhost:8080/"
        },
        "id": "7Dff2w8btDNc",
        "outputId": "7de0ccc8-128e-4480-a3ab-821597cd39d8"
      },
      "execution_count": 2368,
      "outputs": [
        {
          "output_type": "execute_result",
          "data": {
            "text/plain": [
              "168"
            ]
          },
          "metadata": {},
          "execution_count": 2368
        }
      ]
    },
    {
      "cell_type": "code",
      "source": [
        "test_df[['PassengerId','Survived']].to_csv('submission.csv', index=False)"
      ],
      "metadata": {
        "id": "W5H_WBxCwvvQ"
      },
      "execution_count": 2366,
      "outputs": []
    },
    {
      "cell_type": "code",
      "source": [
        "df = pd.read_csv('submission.csv')\n",
        "df"
      ],
      "metadata": {
        "colab": {
          "base_uri": "https://localhost:8080/",
          "height": 423
        },
        "id": "zkmgaW_iyIbU",
        "outputId": "43edc45d-5c8b-4085-fca1-28765ad54984"
      },
      "execution_count": 2367,
      "outputs": [
        {
          "output_type": "execute_result",
          "data": {
            "text/plain": [
              "     PassengerId  Survived\n",
              "0            892         0\n",
              "1            893         0\n",
              "2            894         0\n",
              "3            895         0\n",
              "4            896         1\n",
              "..           ...       ...\n",
              "413         1305         0\n",
              "414         1306         1\n",
              "415         1307         0\n",
              "416         1308         0\n",
              "417         1309         1\n",
              "\n",
              "[418 rows x 2 columns]"
            ],
            "text/html": [
              "\n",
              "  <div id=\"df-9fccaad2-8fd2-46bd-b56d-46e414d71552\">\n",
              "    <div class=\"colab-df-container\">\n",
              "      <div>\n",
              "<style scoped>\n",
              "    .dataframe tbody tr th:only-of-type {\n",
              "        vertical-align: middle;\n",
              "    }\n",
              "\n",
              "    .dataframe tbody tr th {\n",
              "        vertical-align: top;\n",
              "    }\n",
              "\n",
              "    .dataframe thead th {\n",
              "        text-align: right;\n",
              "    }\n",
              "</style>\n",
              "<table border=\"1\" class=\"dataframe\">\n",
              "  <thead>\n",
              "    <tr style=\"text-align: right;\">\n",
              "      <th></th>\n",
              "      <th>PassengerId</th>\n",
              "      <th>Survived</th>\n",
              "    </tr>\n",
              "  </thead>\n",
              "  <tbody>\n",
              "    <tr>\n",
              "      <th>0</th>\n",
              "      <td>892</td>\n",
              "      <td>0</td>\n",
              "    </tr>\n",
              "    <tr>\n",
              "      <th>1</th>\n",
              "      <td>893</td>\n",
              "      <td>0</td>\n",
              "    </tr>\n",
              "    <tr>\n",
              "      <th>2</th>\n",
              "      <td>894</td>\n",
              "      <td>0</td>\n",
              "    </tr>\n",
              "    <tr>\n",
              "      <th>3</th>\n",
              "      <td>895</td>\n",
              "      <td>0</td>\n",
              "    </tr>\n",
              "    <tr>\n",
              "      <th>4</th>\n",
              "      <td>896</td>\n",
              "      <td>1</td>\n",
              "    </tr>\n",
              "    <tr>\n",
              "      <th>...</th>\n",
              "      <td>...</td>\n",
              "      <td>...</td>\n",
              "    </tr>\n",
              "    <tr>\n",
              "      <th>413</th>\n",
              "      <td>1305</td>\n",
              "      <td>0</td>\n",
              "    </tr>\n",
              "    <tr>\n",
              "      <th>414</th>\n",
              "      <td>1306</td>\n",
              "      <td>1</td>\n",
              "    </tr>\n",
              "    <tr>\n",
              "      <th>415</th>\n",
              "      <td>1307</td>\n",
              "      <td>0</td>\n",
              "    </tr>\n",
              "    <tr>\n",
              "      <th>416</th>\n",
              "      <td>1308</td>\n",
              "      <td>0</td>\n",
              "    </tr>\n",
              "    <tr>\n",
              "      <th>417</th>\n",
              "      <td>1309</td>\n",
              "      <td>1</td>\n",
              "    </tr>\n",
              "  </tbody>\n",
              "</table>\n",
              "<p>418 rows × 2 columns</p>\n",
              "</div>\n",
              "      <button class=\"colab-df-convert\" onclick=\"convertToInteractive('df-9fccaad2-8fd2-46bd-b56d-46e414d71552')\"\n",
              "              title=\"Convert this dataframe to an interactive table.\"\n",
              "              style=\"display:none;\">\n",
              "        \n",
              "  <svg xmlns=\"http://www.w3.org/2000/svg\" height=\"24px\"viewBox=\"0 0 24 24\"\n",
              "       width=\"24px\">\n",
              "    <path d=\"M0 0h24v24H0V0z\" fill=\"none\"/>\n",
              "    <path d=\"M18.56 5.44l.94 2.06.94-2.06 2.06-.94-2.06-.94-.94-2.06-.94 2.06-2.06.94zm-11 1L8.5 8.5l.94-2.06 2.06-.94-2.06-.94L8.5 2.5l-.94 2.06-2.06.94zm10 10l.94 2.06.94-2.06 2.06-.94-2.06-.94-.94-2.06-.94 2.06-2.06.94z\"/><path d=\"M17.41 7.96l-1.37-1.37c-.4-.4-.92-.59-1.43-.59-.52 0-1.04.2-1.43.59L10.3 9.45l-7.72 7.72c-.78.78-.78 2.05 0 2.83L4 21.41c.39.39.9.59 1.41.59.51 0 1.02-.2 1.41-.59l7.78-7.78 2.81-2.81c.8-.78.8-2.07 0-2.86zM5.41 20L4 18.59l7.72-7.72 1.47 1.35L5.41 20z\"/>\n",
              "  </svg>\n",
              "      </button>\n",
              "      \n",
              "  <style>\n",
              "    .colab-df-container {\n",
              "      display:flex;\n",
              "      flex-wrap:wrap;\n",
              "      gap: 12px;\n",
              "    }\n",
              "\n",
              "    .colab-df-convert {\n",
              "      background-color: #E8F0FE;\n",
              "      border: none;\n",
              "      border-radius: 50%;\n",
              "      cursor: pointer;\n",
              "      display: none;\n",
              "      fill: #1967D2;\n",
              "      height: 32px;\n",
              "      padding: 0 0 0 0;\n",
              "      width: 32px;\n",
              "    }\n",
              "\n",
              "    .colab-df-convert:hover {\n",
              "      background-color: #E2EBFA;\n",
              "      box-shadow: 0px 1px 2px rgba(60, 64, 67, 0.3), 0px 1px 3px 1px rgba(60, 64, 67, 0.15);\n",
              "      fill: #174EA6;\n",
              "    }\n",
              "\n",
              "    [theme=dark] .colab-df-convert {\n",
              "      background-color: #3B4455;\n",
              "      fill: #D2E3FC;\n",
              "    }\n",
              "\n",
              "    [theme=dark] .colab-df-convert:hover {\n",
              "      background-color: #434B5C;\n",
              "      box-shadow: 0px 1px 3px 1px rgba(0, 0, 0, 0.15);\n",
              "      filter: drop-shadow(0px 1px 2px rgba(0, 0, 0, 0.3));\n",
              "      fill: #FFFFFF;\n",
              "    }\n",
              "  </style>\n",
              "\n",
              "      <script>\n",
              "        const buttonEl =\n",
              "          document.querySelector('#df-9fccaad2-8fd2-46bd-b56d-46e414d71552 button.colab-df-convert');\n",
              "        buttonEl.style.display =\n",
              "          google.colab.kernel.accessAllowed ? 'block' : 'none';\n",
              "\n",
              "        async function convertToInteractive(key) {\n",
              "          const element = document.querySelector('#df-9fccaad2-8fd2-46bd-b56d-46e414d71552');\n",
              "          const dataTable =\n",
              "            await google.colab.kernel.invokeFunction('convertToInteractive',\n",
              "                                                     [key], {});\n",
              "          if (!dataTable) return;\n",
              "\n",
              "          const docLinkHtml = 'Like what you see? Visit the ' +\n",
              "            '<a target=\"_blank\" href=https://colab.research.google.com/notebooks/data_table.ipynb>data table notebook</a>'\n",
              "            + ' to learn more about interactive tables.';\n",
              "          element.innerHTML = '';\n",
              "          dataTable['output_type'] = 'display_data';\n",
              "          await google.colab.output.renderOutput(dataTable, element);\n",
              "          const docLink = document.createElement('div');\n",
              "          docLink.innerHTML = docLinkHtml;\n",
              "          element.appendChild(docLink);\n",
              "        }\n",
              "      </script>\n",
              "    </div>\n",
              "  </div>\n",
              "  "
            ]
          },
          "metadata": {},
          "execution_count": 2367
        }
      ]
    }
  ]
}